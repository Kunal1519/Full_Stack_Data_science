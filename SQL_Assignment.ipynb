{
 "cells": [
  {
   "cell_type": "markdown",
   "metadata": {},
   "source": [
    "Ques -1    "
   ]
  },
  {
   "cell_type": "markdown",
   "metadata": {},
   "source": [
    "Ans 1:  select id \n",
    "        from technology where tech = 'DS'\n",
    "        AND id in (select id from technology where tech = 'Power BI'\n",
    "        AND id in ( select id from technology where tech = 'C#'));"
   ]
  },
  {
   "cell_type": "markdown",
   "metadata": {},
   "source": [
    "Ques 2 : Give the ID's which have 0 likes"
   ]
  },
  {
   "cell_type": "markdown",
   "metadata": {},
   "source": [
    "SELECT pr_ID\n",
    "FROM product_Info s\n",
    "WHERE NOT EXISTS (\n",
    "    SELECT *\n",
    "    FROM product_Info_Like e\n",
    "    WHERE e.pr_ID = s.pr_ID\n",
    ");"
   ]
  }
 ],
 "metadata": {
  "language_info": {
   "name": "python"
  },
  "orig_nbformat": 4
 },
 "nbformat": 4,
 "nbformat_minor": 2
}
