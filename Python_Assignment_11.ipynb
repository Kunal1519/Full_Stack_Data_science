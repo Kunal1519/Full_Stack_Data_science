{
 "cells": [
  {
   "attachments": {},
   "cell_type": "markdown",
   "metadata": {},
   "source": [
    "1. What is the role of the 'else' block in a try-except statement? Provide an example\n",
    "scenario where it would be useful."
   ]
  },
  {
   "attachments": {},
   "cell_type": "markdown",
   "metadata": {},
   "source": [
    "Ans: The else block in a try-except statement is optional and provides a block of code that is executed only if no exception is raised within the corresponding try block."
   ]
  },
  {
   "cell_type": "code",
   "execution_count": 23,
   "metadata": {},
   "outputs": [
    {
     "name": "stdout",
     "output_type": "stream",
     "text": [
      "Division result: 5.0\n"
     ]
    }
   ],
   "source": [
    "try:\n",
    "    numerator = int(input(\"Enter the numerator: \"))\n",
    "    denominator = int(input(\"Enter the denominator: \"))\n",
    "    result = numerator / denominator\n",
    "except ValueError:\n",
    "    print(\"Error: Invalid input. Please enter integers.\")\n",
    "except ZeroDivisionError:\n",
    "    print(\"Error: Division by zero is not allowed.\")\n",
    "else:\n",
    "    print(\"Division result:\", result)\n"
   ]
  },
  {
   "attachments": {},
   "cell_type": "markdown",
   "metadata": {},
   "source": [
    "2. Can a try-except block be nested inside another try-except block? Explain with an\n",
    "example."
   ]
  },
  {
   "attachments": {},
   "cell_type": "markdown",
   "metadata": {},
   "source": [
    "Yes, it is possible to nest a try-except block inside another try-except block in Python. This is known as nested exception handling. It allows for more specific and localized handling of exceptions within different levels or sections of code. Here's an example:"
   ]
  },
  {
   "cell_type": "code",
   "execution_count": 24,
   "metadata": {},
   "outputs": [
    {
     "name": "stdout",
     "output_type": "stream",
     "text": [
      "Division result: 5.0\n"
     ]
    }
   ],
   "source": [
    "try:\n",
    "    # Outer try block\n",
    "    numerator = int(input(\"Enter the numerator: \"))\n",
    "    denominator = int(input(\"Enter the denominator: \"))\n",
    "    try:\n",
    "        # Inner try block\n",
    "        result = numerator / denominator\n",
    "        print(\"Division result:\", result)\n",
    "    except ZeroDivisionError:\n",
    "        print(\"Error: Division by zero is not allowed.\")\n",
    "except ValueError:\n",
    "    print(\"Error: Invalid input. Please enter integers.\")\n"
   ]
  },
  {
   "attachments": {},
   "cell_type": "markdown",
   "metadata": {},
   "source": [
    "3. How can you create a custom exception class in Python? Provide an example that\n",
    "demonstrates its usage."
   ]
  },
  {
   "attachments": {},
   "cell_type": "markdown",
   "metadata": {},
   "source": [
    "Ans: In Python, you can create a custom exception class by defining a new class that inherits from the built-in Exception class or any of its subclasses. "
   ]
  },
  {
   "cell_type": "code",
   "execution_count": 25,
   "metadata": {},
   "outputs": [
    {
     "name": "stdout",
     "output_type": "stream",
     "text": [
      "Error: Division by zero is not allowed.\n"
     ]
    }
   ],
   "source": [
    "class CustomException(Exception):\n",
    "    pass\n",
    "\n",
    "# Usage example\n",
    "def divide(a, b):\n",
    "    if b == 0:\n",
    "        raise CustomException(\"Division by zero is not allowed.\")\n",
    "    return a / b\n",
    "\n",
    "try:\n",
    "    result = divide(10, 0)\n",
    "    print(\"Result:\", result)\n",
    "except CustomException as e:\n",
    "    print(\"Error:\", str(e))\n"
   ]
  },
  {
   "attachments": {},
   "cell_type": "markdown",
   "metadata": {},
   "source": [
    "4. What are some common exceptions that are built-in to Python?"
   ]
  },
  {
   "attachments": {},
   "cell_type": "markdown",
   "metadata": {},
   "source": [
    "```\n",
    "Exception: The base class for all exceptions.\n",
    "TypeError: Raised when an operation or function is performed on an object of an inappropriate type.\n",
    "ValueError: Raised when an operation or function receives an argument of the correct type but an inappropriate value.\n",
    "NameError: Raised when a local or global name is not found.\n",
    "IndexError: Raised when trying to access an index that is out of range in a sequence.\n",
    "KeyError: Raised when trying to access a dictionary key that does not exist.\n",
    "FileNotFoundError: Raised when a file or directory is not found.\n",
    "SyntaxError: Raised when there is a syntax error in the code.\n",
    "ZeroDivisionError: Raised when division or modulo operation is performed with zero as the divisor.\n",
    "IOError: Raised when an input/output operation fails or is interrupted.\n",
    "AttributeError: Raised when an attribute reference or assignment fails.\n",
    "OverflowError: Raised when the result of an arithmetic operation exceeds the maximum representable value for a numeric type.\n",
    "MemoryError: Raised when the Python interpreter runs out of memory to allocate for an object.\n",
    "ImportError: Raised when an import statement fails to find and load a module.\n",
    "StopIteration: Raised when the next() function is called on an iterator and there are no more items to be returned.\n",
    "```"
   ]
  },
  {
   "attachments": {},
   "cell_type": "markdown",
   "metadata": {},
   "source": [
    "5. What is logging in Python, and why is it important in software development?"
   ]
  },
  {
   "attachments": {},
   "cell_type": "markdown",
   "metadata": {},
   "source": [
    "Ans: Logging in Python is a built-in module that provides a flexible and configurable way to record log messages during the execution of a program. It allows developers to track and record important information, warnings, errors, and debugging messages that occur during the program's execution.\n",
    "```\n",
    "1) Debugging and Troubleshooting\n",
    "\n",
    "2) Monitoring and Auditing\n",
    "\n",
    "3) Error Analysis and Maintenance\n",
    "\n",
    "4) Documentation and Communication\n",
    "\n",
    "5) Flexibility and Configurability\n",
    "```"
   ]
  },
  {
   "attachments": {},
   "cell_type": "markdown",
   "metadata": {},
   "source": [
    "6. Explain the purpose of log levels in Python logging and provide examples of when\n",
    "each log level would be appropriate."
   ]
  },
  {
   "cell_type": "code",
   "execution_count": 26,
   "metadata": {},
   "outputs": [
    {
     "name": "stderr",
     "output_type": "stream",
     "text": [
      "WARNING:root:Disk space is running low.\n",
      "ERROR:root:Failed to connect to the database.\n",
      "CRITICAL:root:System is running out of memory.\n"
     ]
    }
   ],
   "source": [
    "import logging\n",
    "\n",
    "logging.debug(\"Entering function foo().\")  #This log level is used for detailed \n",
    "#debugging information. It is typically used during development and is the most verbose log level.\n",
    "\n",
    "\n",
    "\n",
    "logging.info(\"Server started on port 8000.\")  #This log level is used to provide general information about the program's execution. \n",
    "#It can be used to track important milestones or events that help understand the program's progress.\n",
    "\n",
    "logging.warning(\"Disk space is running low.\") #This log level indicates a potential issue or a situation that may lead to an error in the future. \n",
    "#It is used to highlight abnormal or unexpected events that should be noted but do not cause the program to stop\n",
    "\n",
    "logging.error(\"Failed to connect to the database.\") #This log level is used to indicate errors that prevent the program from functioning as \n",
    "# intended. 3 It signifies a failure in some part of the program's execution. \n",
    "\n",
    "logging.critical(\"System is running out of memory.\")   #This log level represents a critical error or a severe failure that requires immediate \n",
    "# attention. It indicates a condition that might cause the program to terminate or stop working correctly. \n",
    "\n"
   ]
  },
  {
   "attachments": {},
   "cell_type": "markdown",
   "metadata": {},
   "source": [
    "6. Explain the purpose of log levels in Python logging and provide examples of when\n",
    "each log level would be appropriate."
   ]
  },
  {
   "cell_type": "code",
   "execution_count": 27,
   "metadata": {},
   "outputs": [],
   "source": [
    "#Log levels helpdevelopers control the verbosity of the logging output and enable \n",
    "#them to focus on specific types of messages depending on the situation. \n",
    "import logging\n",
    "\n",
    "logging.basicConfig(level=logging.INFO)\n",
    "\n",
    "# ...\n",
    "\n",
    "logging.info(\"Data processing completed successfully.\")\n",
    "\n"
   ]
  },
  {
   "attachments": {},
   "cell_type": "markdown",
   "metadata": {},
   "source": [
    "7. What are log formatters in Python logging, and how can you customise the log\n",
    "message format using formatters?"
   ]
  },
  {
   "cell_type": "code",
   "execution_count": 28,
   "metadata": {},
   "outputs": [],
   "source": [
    "#import logging ----for importing the external files\n",
    "#formatter = logging.Formatter('%(asctime)s - %(levelname)s - %(message)s')  Create an instance of the formatter class you want to use.\n",
    "#logger = logging.getLogger()\n",
    "#logger.addHandler(handler) Create a logger instance and attach the handler to it"
   ]
  },
  {
   "attachments": {},
   "cell_type": "markdown",
   "metadata": {},
   "source": [
    "8. How can you set up logging to capture log messages from multiple modules or\n",
    "classes in a Python application?"
   ]
  },
  {
   "cell_type": "code",
   "execution_count": 29,
   "metadata": {},
   "outputs": [
    {
     "name": "stderr",
     "output_type": "stream",
     "text": [
      "This is a warning message.\n",
      "This is a warning message.\n",
      "WARNING:__main__:This is a warning message.\n"
     ]
    }
   ],
   "source": [
    "import logging\n",
    "logging.basicConfig(level=logging.DEBUG)\n",
    "logger = logging.getLogger(__name__)\n",
    "handler = logging.StreamHandler()\n",
    "logger.addHandler(handler)\n",
    "logger.debug(\"This is a debug message.\")\n",
    "logger.info(\"This is an informational message.\")\n",
    "logger.warning(\"This is a warning message.\")\n"
   ]
  },
  {
   "attachments": {},
   "cell_type": "markdown",
   "metadata": {},
   "source": [
    "9. What is the difference between the logging and print statements in Python? When\n",
    "should you use logging over print statements in a real-world application?"
   ]
  },
  {
   "attachments": {},
   "cell_type": "markdown",
   "metadata": {},
   "source": [
    "The logging and print statements in Python serve different purposes and have distinct characteristics. Here are the key differences between them:\n",
    "\n",
    "1. Output Control\n",
    "\n",
    "2. Configurability\n",
    "\n",
    "3. Log Levels and Severity\n",
    "\n",
    "4. Debugging and Development\n",
    "\n",
    "5. Production Environment\n",
    "\n",
    "6. Long-Term Maintenance\n",
    "\n",
    "7. Integration and Automation"
   ]
  },
  {
   "attachments": {},
   "cell_type": "markdown",
   "metadata": {},
   "source": [
    "10. Write a Python program that logs a message to a file named \"app.log\" with the\n",
    "following requirements:\n",
    "```\n",
    "● The log message should be \"Hello, World!\"\n",
    "● The log level should be set to \"INFO.\"\n",
    "● The log file should append new log entries without overwriting previous ones.\n",
    "```"
   ]
  },
  {
   "cell_type": "code",
   "execution_count": 30,
   "metadata": {},
   "outputs": [],
   "source": [
    "import logging\n",
    "\n",
    "# Configure the logger\n",
    "logging.basicConfig(\n",
    "    level=logging.INFO,\n",
    "    filename='app.log',\n",
    "    filemode='a',\n",
    "    format='%(asctime)s - %(levelname)s - %(message)s'\n",
    ")\n",
    "\n",
    "# Log the message\n",
    "logging.info(\"Hello, World!\")\n"
   ]
  },
  {
   "attachments": {},
   "cell_type": "markdown",
   "metadata": {},
   "source": [
    "11. Create a Python program that logs an error message to the console and a file named\n",
    "\"errors.log\" if an exception occurs during the program's execution. The error\n",
    "message should include the exception type and a timestamp."
   ]
  },
  {
   "cell_type": "code",
   "execution_count": 31,
   "metadata": {},
   "outputs": [
    {
     "name": "stderr",
     "output_type": "stream",
     "text": [
      "ERROR:root:ValueError: An error occurred.\n"
     ]
    }
   ],
   "source": [
    "import logging\n",
    "import datetime\n",
    "\n",
    "# Configure the logger\n",
    "logging.basicConfig(\n",
    "    level=logging.ERROR,\n",
    "    format='%(asctime)s - %(levelname)s - %(message)s',\n",
    "    handlers=[\n",
    "        logging.StreamHandler(),  # Output to console\n",
    "        logging.FileHandler('errors.log')  # Output to file\n",
    "    ]\n",
    ")\n",
    "\n",
    "try:\n",
    "    # Code that may raise an exception\n",
    "    # ...\n",
    "    raise ValueError(\"An error occurred.\")\n",
    "except Exception as e:\n",
    "    # Log the error message\n",
    "    logging.error(f\"{type(e).__name__}: {e}\")\n"
   ]
  }
 ],
 "metadata": {
  "kernelspec": {
   "display_name": "Python 3",
   "language": "python",
   "name": "python3"
  },
  "language_info": {
   "codemirror_mode": {
    "name": "ipython",
    "version": 3
   },
   "file_extension": ".py",
   "mimetype": "text/x-python",
   "name": "python",
   "nbconvert_exporter": "python",
   "pygments_lexer": "ipython3",
   "version": "3.10.11"
  },
  "orig_nbformat": 4
 },
 "nbformat": 4,
 "nbformat_minor": 2
}
