{
 "cells": [
  {
   "attachments": {},
   "cell_type": "markdown",
   "metadata": {},
   "source": [
    "Q.1. Create two int type variables, apply addition, subtraction, division and multiplications\n",
    "and store the results in variables. Then print the data in the following format by calling the\n",
    "```\n",
    "variables:\n",
    "First variable is __ & second variable is __.\n",
    "Addition: __ + __ = __\n",
    "Subtraction: __ - __ = __\n",
    "Multiplication: __ * __ = __\n",
    "Division: __ / __ = __\n",
    "```"
   ]
  },
  {
   "cell_type": "code",
   "execution_count": 16,
   "metadata": {},
   "outputs": [
    {
     "name": "stdout",
     "output_type": "stream",
     "text": [
      "First variable is  7 & second variable is  10\n",
      "Addition :  7  +  10  =  17\n",
      "Subtration :  7  -  10  =  -3\n",
      "Multiplication :  7  *  10  =  70\n",
      "Divison :  7  /  10  =  0.7\n"
     ]
    }
   ],
   "source": [
    "a = 7\n",
    "b=10;\n",
    "print(\"First variable is \" ,a ,\"& second variable is \", b)\n",
    "print(\"Addition : \", a , \" + \", b , \" = \",a+b )\n",
    "print(\"Subtration : \", a , \" - \", b , \" = \",a-b )\n",
    "print(\"Multiplication : \", a , \" * \", b , \" = \",a*b )\n",
    "print(\"Divison : \", a , \" / \", b , \" = \",a/b )"
   ]
  },
  {
   "attachments": {},
   "cell_type": "markdown",
   "metadata": {},
   "source": [
    "Q.2. What is the difference between the following operators:\n",
    "```\n",
    "(i) ‘/’ & ‘//’\n",
    "(ii) ‘**’ & ‘^’\n",
    "```"
   ]
  },
  {
   "cell_type": "code",
   "execution_count": 17,
   "metadata": {},
   "outputs": [
    {
     "name": "stdout",
     "output_type": "stream",
     "text": [
      "3.3333333333333335\n",
      "3\n",
      "1000\n",
      "9\n"
     ]
    }
   ],
   "source": [
    "a =10\n",
    "b=3\n",
    "print(a/b)  #this give us the exect division \n",
    "print(a//b) # this give us the floor value\n",
    "print(a**b) # here ** means variable a will be multipliyed with itselft by b times\n",
    "print(a^b) # this is a bitwise operator"
   ]
  },
  {
   "attachments": {},
   "cell_type": "markdown",
   "metadata": {},
   "source": [
    "Q.3. List the logical operators."
   ]
  },
  {
   "cell_type": "code",
   "execution_count": 18,
   "metadata": {},
   "outputs": [
    {
     "name": "stdout",
     "output_type": "stream",
     "text": [
      "Both x and y are greater than 0.\n",
      "At least one of x and y is greater than 0.\n",
      "x is not greater than 10.\n"
     ]
    }
   ],
   "source": [
    "x = 5\n",
    "y = 10\n",
    "\n",
    "# and operator\n",
    "if x > 0 and y > 0:\n",
    "    print(\"Both x and y are greater than 0.\")\n",
    "\n",
    "# or operator\n",
    "if x > 0 or y > 0:\n",
    "    print(\"At least one of x and y is greater than 0.\")\n",
    "\n",
    "# not operator\n",
    "if not x > 10:\n",
    "    print(\"x is not greater than 10.\")\n"
   ]
  },
  {
   "attachments": {},
   "cell_type": "markdown",
   "metadata": {},
   "source": [
    "Q.4. Explain right shift operator and left shift operator with examples."
   ]
  },
  {
   "cell_type": "code",
   "execution_count": 19,
   "metadata": {},
   "outputs": [
    {
     "name": "stdout",
     "output_type": "stream",
     "text": [
      "5\n"
     ]
    }
   ],
   "source": [
    "\n",
    "#Right Shift Operator (>>):\n",
    "#The right shift operator shifts the bits of a number towards the right by the specified number of positions. It is denoted by >>.\n",
    "#The syntax is: number >> n\n",
    "#The value of number is shifted n positions to the right. Each shift by one position is equivalent to dividing the number by 2.\n",
    "#for example\n",
    "x = 10  # Binary: 1010\n",
    "\n",
    "# Right shift by 1 position\n",
    "result = x >> 1  # Binary: 0101, Decimal: 5\n",
    "\n",
    "print(result)\n"
   ]
  },
  {
   "cell_type": "code",
   "execution_count": 20,
   "metadata": {},
   "outputs": [
    {
     "name": "stdout",
     "output_type": "stream",
     "text": [
      "20\n"
     ]
    }
   ],
   "source": [
    "#Left Shift Operator (<<):\n",
    "#The left shift operator shifts the bits of a number towards the left by the specified number of positions. It is denoted by <<.\n",
    "#The syntax is: number << n\n",
    "#The value of number is shifted n positions to the left. Each shift by one position is equivalent to multiplying the number by 2.\n",
    "#Here's an example:\n",
    "x = 5  # Binary: 0101\n",
    "\n",
    "# Left shift by 2 positions\n",
    "result = x << 2  # Binary: 010100, Decimal: 20\n",
    "\n",
    "print(result)\n"
   ]
  },
  {
   "attachments": {},
   "cell_type": "markdown",
   "metadata": {},
   "source": [
    "Q.5. Create a list containing int type data of length 15. Then write a code to check if 10 is\n",
    "present in the list or not."
   ]
  },
  {
   "cell_type": "code",
   "execution_count": 21,
   "metadata": {},
   "outputs": [
    {
     "name": "stdout",
     "output_type": "stream",
     "text": [
      "10 is present in the list.\n"
     ]
    }
   ],
   "source": [
    "\n",
    "my_list = [3, 7, 2, 5, 10, 8, 1, 4, 6, 9, 12, 15, 11, 13, 14]\n",
    "\n",
    "\n",
    "if 10 in my_list:\n",
    "    print(\"10 is present in the list.\")\n",
    "else:\n",
    "    print(\"10 is not present in the list.\")\n"
   ]
  }
 ],
 "metadata": {
  "kernelspec": {
   "display_name": "Python 3",
   "language": "python",
   "name": "python3"
  },
  "language_info": {
   "codemirror_mode": {
    "name": "ipython",
    "version": 3
   },
   "file_extension": ".py",
   "mimetype": "text/x-python",
   "name": "python",
   "nbconvert_exporter": "python",
   "pygments_lexer": "ipython3",
   "version": "3.10.11"
  },
  "orig_nbformat": 4
 },
 "nbformat": 4,
 "nbformat_minor": 2
}
