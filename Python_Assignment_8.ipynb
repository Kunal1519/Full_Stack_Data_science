{
 "cells": [
  {
   "attachments": {},
   "cell_type": "markdown",
   "metadata": {},
   "source": [
    "Ques 1: In Python, what is the difference between a built-in function and a user-defined function? Provide an\n",
    "example of each."
   ]
  },
  {
   "cell_type": "code",
   "execution_count": 67,
   "metadata": {},
   "outputs": [
    {
     "name": "stdout",
     "output_type": "stream",
     "text": [
      "13\n"
     ]
    }
   ],
   "source": [
    "#Built-in Function:\n",
    "#Built-in functions are pre-defined functions provided by the Python programming language. \n",
    "#These functions are readily available and can be used without requiring any additional definitions. \n",
    "#Python provides a wide range of built-in functions that perform various operations and tasks.\n",
    "my_string = \"Hello, world!\"\n",
    "length = len(my_string)\n",
    "print(length)"
   ]
  },
  {
   "cell_type": "code",
   "execution_count": 68,
   "metadata": {},
   "outputs": [
    {
     "name": "stdout",
     "output_type": "stream",
     "text": [
      "12\n"
     ]
    }
   ],
   "source": [
    "#User-defined Function:\n",
    "#User-defined functions are created by users to perform specific tasks or operations according to their requirements. \n",
    "#These functions are defined using the def keyword and can be reused throughout the program.\n",
    "\n",
    "def add_numbers(a, b):\n",
    "    return a + b\n",
    "\n",
    "result = add_numbers(5, 7)\n",
    "print(result)\n"
   ]
  },
  {
   "attachments": {},
   "cell_type": "markdown",
   "metadata": {},
   "source": [
    "Ques 2. How can you pass arguments to a function in Python? Explain the difference between positional\n",
    "arguments and keyword arguments."
   ]
  },
  {
   "cell_type": "code",
   "execution_count": 69,
   "metadata": {},
   "outputs": [
    {
     "name": "stdout",
     "output_type": "stream",
     "text": [
      "Hello Alice! You are 25 years old.\n"
     ]
    }
   ],
   "source": [
    "#Positional Arguments: These are arguments passed to a function in the same order as they are defined in the function's parameter list. \n",
    "#The position of the arguments determines which parameter they correspond to in the function. Here's an example:\n",
    "def greet(name, age):\n",
    "    print(f\"Hello {name}! You are {age} years old.\")\n",
    "\n",
    "greet(\"Alice\", 25)\n"
   ]
  },
  {
   "cell_type": "code",
   "execution_count": 70,
   "metadata": {},
   "outputs": [
    {
     "name": "stdout",
     "output_type": "stream",
     "text": [
      "Hello Alice! You are 25 years old.\n"
     ]
    }
   ],
   "source": [
    "#Keyword Arguments: These are arguments passed to a function using their parameter names explicitly. \n",
    "#Instead of relying on the order, you specify the parameter name followed by the value. Here's an example:\n",
    "def greet(name, age):\n",
    "    print(f\"Hello {name}! You are {age} years old.\")\n",
    "\n",
    "greet(age=25, name=\"Alice\")\n"
   ]
  },
  {
   "attachments": {},
   "cell_type": "markdown",
   "metadata": {},
   "source": [
    "Ques 3. What is the purpose of the return statement in a function? Can a function have multiple return\n",
    "statements? Explain with an example."
   ]
  },
  {
   "cell_type": "code",
   "execution_count": 71,
   "metadata": {},
   "outputs": [],
   "source": [
    "#The purpose of the return statement in a function is to specify the value that the function should evaluate to and provide as the result \n",
    "#when called.It allows a function to compute a value or perform a task and then send the result back to the caller.\n",
    "\n",
    "#A function can indeed have multiple return statements. When a return statement is encountered, it immediately terminates the execution of \n",
    "#the function and returns the specified value. Having multiple return statements in a function allows for different conditions or paths of\n",
    " #execution to result in different return values.\n",
    "def divide(a, b):\n",
    "    if b == 0:\n",
    "        return \"Error: Cannot divide by zero.\"  # Return an error message\n",
    "    else:\n",
    "        return a / b  # Return the result of the division\n"
   ]
  },
  {
   "attachments": {},
   "cell_type": "markdown",
   "metadata": {},
   "source": [
    "Ques 4. What are lambda functions in Python? How are they different from regular functions? Provide an\n",
    "example where a lambda function can be useful."
   ]
  },
  {
   "cell_type": "code",
   "execution_count": 72,
   "metadata": {},
   "outputs": [
    {
     "name": "stdout",
     "output_type": "stream",
     "text": [
      "[2, 4, 6, 8, 10]\n"
     ]
    }
   ],
   "source": [
    "#Lambda functions, also known as anonymous functions, are small and anonymous functions that are defined without a name. \n",
    "#They are defined using the lambda keyword and can take any number of arguments but can only have one expression.\n",
    "numbers = [1, 2, 3, 4, 5]\n",
    "doubled_numbers = list(map(lambda x: x * 2, numbers))\n",
    "print(doubled_numbers)  # Output: [2, 4, 6, 8, 10]\n",
    "\n"
   ]
  },
  {
   "attachments": {},
   "cell_type": "markdown",
   "metadata": {},
   "source": [
    "Ques 5. How does the concept of \"scope\" apply to functions in Python? Explain the difference between local\n",
    "scope and global scope."
   ]
  },
  {
   "attachments": {},
   "cell_type": "markdown",
   "metadata": {},
   "source": [
    "Local Scope:\n",
    "Variables defined within a function have local scope. They are only accessible within the function where they are defined.\n",
    "Local variables are created when the function is called and are destroyed when the function completes its execution.\n",
    "Local variables are not accessible outside the function.\n",
    "Example:"
   ]
  },
  {
   "cell_type": "code",
   "execution_count": 73,
   "metadata": {},
   "outputs": [
    {
     "name": "stdout",
     "output_type": "stream",
     "text": [
      "10\n"
     ]
    },
    {
     "ename": "NameError",
     "evalue": "name 'x' is not defined",
     "output_type": "error",
     "traceback": [
      "\u001b[1;31m---------------------------------------------------------------------------\u001b[0m",
      "\u001b[1;31mNameError\u001b[0m                                 Traceback (most recent call last)",
      "Cell \u001b[1;32mIn[73], line 6\u001b[0m\n\u001b[0;32m      3\u001b[0m     \u001b[39mprint\u001b[39m(x)\n\u001b[0;32m      5\u001b[0m my_function()  \u001b[39m# Output: 10\u001b[39;00m\n\u001b[1;32m----> 6\u001b[0m \u001b[39mprint\u001b[39m(x)  \u001b[39m# Error: NameError: name 'x' is not defined\u001b[39;00m\n",
      "\u001b[1;31mNameError\u001b[0m: name 'x' is not defined"
     ]
    }
   ],
   "source": [
    "def my_function():\n",
    "    x = 10  # Local variable\n",
    "    print(x)\n",
    "\n",
    "my_function()  # Output: 10\n",
    "print(x)  # Error: NameError: name 'x' is not defined"
   ]
  },
  {
   "attachments": {},
   "cell_type": "markdown",
   "metadata": {},
   "source": [
    "Global Scope:\n",
    "\n",
    "Variables defined outside of any function have global scope. They can be accessed from anywhere in the code, including within functions.\n",
    "Global variables can be accessed and modified both inside and outside of functions.\n",
    "Global variables are created when they are first assigned a value and exist until the program terminates.\n",
    "Example:"
   ]
  },
  {
   "cell_type": "code",
   "execution_count": null,
   "metadata": {},
   "outputs": [],
   "source": [
    "x = 10  # Global variable\n",
    "\n",
    "def my_function():\n",
    "    print(x)  # Access global variable\n",
    "\n",
    "my_function()  # Output: 10\n",
    "print(x)  # Output: 10\n",
    "\n",
    "def another_function():\n",
    "    global x  # Declare that we want to modify the global variable\n",
    "    x = 20  # Modify global variable\n",
    "\n",
    "another_function()\n",
    "print(x)  # Output: 20"
   ]
  },
  {
   "attachments": {},
   "cell_type": "markdown",
   "metadata": {},
   "source": [
    "Ques 6. How can you use the \"return\" statement in a Python function to return multiple values?"
   ]
  },
  {
   "cell_type": "code",
   "execution_count": null,
   "metadata": {},
   "outputs": [
    {
     "name": "stdout",
     "output_type": "stream",
     "text": [
      "(10, 20, 30)\n",
      "[10, 20, 30]\n",
      "{'a': 10, 'b': 20, 'c': 30}\n"
     ]
    }
   ],
   "source": [
    "#Returning a Tuple:\n",
    "#You can use a tuple to return multiple values from a function.\n",
    "#Example:\n",
    "def get_values():\n",
    "    a = 10\n",
    "    b = 20\n",
    "    c = 30\n",
    "    return a, b, c\n",
    "\n",
    "result = get_values()\n",
    "print(result)  # Output: (10, 20, 30)\n",
    "\n",
    "\n",
    "#Returning a List:\n",
    "\n",
    "#You can use a list to return multiple values from a function.\n",
    "#Example:\n",
    "def get_values():\n",
    "    a = 10\n",
    "    b = 20\n",
    "    c = 30\n",
    "    return [a, b, c]\n",
    "\n",
    "result = get_values()\n",
    "print(result)  # Output: [10, 20, 30]\n",
    "\n",
    "\n",
    "#Returning a Dictionary:\n",
    "\n",
    "#You can use a dictionary to return multiple values from a function, where each value is associated with a specific key.\n",
    "#Example:\n",
    "\n",
    "def get_values():\n",
    "    a = 10\n",
    "    b = 20\n",
    "    c = 30\n",
    "    return {\"a\": a, \"b\": b, \"c\": c}\n",
    "\n",
    "result = get_values()\n",
    "print(result)  # Output: {'a': 10, 'b': 20, 'c': 30}\n"
   ]
  },
  {
   "attachments": {},
   "cell_type": "markdown",
   "metadata": {},
   "source": [
    "Ques 7. What is the difference between the \"pass by value\" and \"pass by reference\" concepts when it\n",
    "comes to function arguments in Python?"
   ]
  },
  {
   "cell_type": "code",
   "execution_count": null,
   "metadata": {},
   "outputs": [
    {
     "name": "stdout",
     "output_type": "stream",
     "text": [
      "10\n",
      "[1, 2, 3, 4]\n"
     ]
    }
   ],
   "source": [
    "#Pass by Value:\n",
    "\n",
    "#In pass by value, a copy of the value of the variable is passed to the function.\n",
    "#Modifying the parameter inside the function does not affect the original variable outside the function.\n",
    "#Python uses pass by value for immutable objects like numbers, strings, and tuples.\n",
    "#Example:\n",
    "\n",
    "\n",
    "def modify_value(num):\n",
    "    num = num + 1\n",
    "\n",
    "value = 10\n",
    "modify_value(value)\n",
    "print(value)  # Output: 10\n",
    "\n",
    "\n",
    "#Pass by Reference (or Object Reference):\n",
    "\n",
    "#In pass by reference, a reference to the variable is passed to the function.\n",
    "#Modifying the parameter inside the function affects the original variable outside the function.\n",
    "#Python uses pass by reference for mutable objects like lists, dictionaries, and custom objects.\n",
    "#Example:\n",
    "def modify_list(lst):\n",
    "    lst.append(4)\n",
    "\n",
    "my_list = [1, 2, 3]\n",
    "modify_list(my_list)\n",
    "print(my_list)  # Output: [1, 2, 3, 4]\n"
   ]
  },
  {
   "attachments": {},
   "cell_type": "markdown",
   "metadata": {},
   "source": [
    "Ques 8. Create a function that can intake integer or decimal value and do following operations:\n",
    "a. Logarithmic function (log x)\n",
    "b. Exponential function (exp(x))\n",
    "c. Power function with base 2 (2x)\n",
    "d. Square root"
   ]
  },
  {
   "cell_type": "code",
   "execution_count": null,
   "metadata": {},
   "outputs": [
    {
     "name": "stdout",
     "output_type": "stream",
     "text": [
      "Logarithmic function: 0.9162907318741551\n",
      "Exponential function: 12.182493960703473\n",
      "Power function with base 2: 5.656854249492381\n",
      "Square root: 1.5811388300841898\n"
     ]
    }
   ],
   "source": [
    "import math\n",
    "\n",
    "def perform_operations(x):\n",
    " \n",
    "    log_result = math.log(x)\n",
    "\n",
    "   \n",
    "    exp_result = math.exp(x)\n",
    "\n",
    " \n",
    "    power_result = math.pow(2, x)\n",
    "\n",
    "  \n",
    "    sqrt_result = math.sqrt(x)\n",
    "\n",
    "    return log_result, exp_result, power_result, sqrt_result\n",
    "\n",
    "result = perform_operations(2.5)\n",
    "print(\"Logarithmic function:\", result[0])\n",
    "print(\"Exponential function:\", result[1])\n",
    "print(\"Power function with base 2:\", result[2])\n",
    "print(\"Square root:\", result[3])\n"
   ]
  },
  {
   "attachments": {},
   "cell_type": "markdown",
   "metadata": {},
   "source": [
    "Ques 9. Create a function that takes a full name as an argument and returns first name and last name."
   ]
  },
  {
   "cell_type": "code",
   "execution_count": 74,
   "metadata": {},
   "outputs": [
    {
     "name": "stdout",
     "output_type": "stream",
     "text": [
      "First Name: Kunal\n",
      "Last Name: Jaiswal\n"
     ]
    }
   ],
   "source": [
    "def get_first_last_name(full_name):\n",
    "    name_parts = full_name.split()\n",
    "    first_name = name_parts[0]\n",
    "    last_name = name_parts[-1]\n",
    "\n",
    "    return first_name, last_name\n",
    "\n",
    "\n",
    "full_name = \"Kunal Jaiswal\"\n",
    "first_name, last_name = get_first_last_name(full_name)\n",
    "print(\"First Name:\", first_name)\n",
    "print(\"Last Name:\", last_name)\n"
   ]
  }
 ],
 "metadata": {
  "kernelspec": {
   "display_name": "Python 3",
   "language": "python",
   "name": "python3"
  },
  "language_info": {
   "codemirror_mode": {
    "name": "ipython",
    "version": 3
   },
   "file_extension": ".py",
   "mimetype": "text/x-python",
   "name": "python",
   "nbconvert_exporter": "python",
   "pygments_lexer": "ipython3",
   "version": "3.10.11"
  },
  "orig_nbformat": 4
 },
 "nbformat": 4,
 "nbformat_minor": 2
}
