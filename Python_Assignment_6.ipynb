{
 "cells": [
  {
   "attachments": {},
   "cell_type": "markdown",
   "metadata": {},
   "source": [
    "Q.1. What are keywords in python? Using the keyword library, print all the python keywords."
   ]
  },
  {
   "attachments": {},
   "cell_type": "markdown",
   "metadata": {},
   "source": [
    "Ans: Python keywords are special reserved words that have specific meanings and purposes and can’t be used for anything but those specific purposes. These keywords are always available—you’ll never have to import them into your code."
   ]
  },
  {
   "cell_type": "code",
   "execution_count": 4,
   "metadata": {},
   "outputs": [
    {
     "data": {
      "text/plain": [
       "['False',\n",
       " 'None',\n",
       " 'True',\n",
       " 'and',\n",
       " 'as',\n",
       " 'assert',\n",
       " 'async',\n",
       " 'await',\n",
       " 'break',\n",
       " 'class',\n",
       " 'continue',\n",
       " 'def',\n",
       " 'del',\n",
       " 'elif',\n",
       " 'else',\n",
       " 'except',\n",
       " 'finally',\n",
       " 'for',\n",
       " 'from',\n",
       " 'global',\n",
       " 'if',\n",
       " 'import',\n",
       " 'in',\n",
       " 'is',\n",
       " 'lambda',\n",
       " 'nonlocal',\n",
       " 'not',\n",
       " 'or',\n",
       " 'pass',\n",
       " 'raise',\n",
       " 'return',\n",
       " 'try',\n",
       " 'while',\n",
       " 'with',\n",
       " 'yield']"
      ]
     },
     "execution_count": 4,
     "metadata": {},
     "output_type": "execute_result"
    }
   ],
   "source": [
    "import keyword\n",
    "keyword.kwlist"
   ]
  },
  {
   "attachments": {},
   "cell_type": "markdown",
   "metadata": {},
   "source": [
    "Q.2. What are the rules to create variables in python?"
   ]
  },
  {
   "attachments": {},
   "cell_type": "markdown",
   "metadata": {},
   "source": [
    "Ans: A variable name must start with a letter or the underscore character <br>\n",
    "A variable name cannot start with a number <br>\n",
    "A variable name can only contain alpha-numeric characters and underscores (A-z, 0-9, and _ ) <br>\n",
    "Variable names are case-sensitive (age, Age and AGE are three different variables) <br>"
   ]
  },
  {
   "attachments": {},
   "cell_type": "markdown",
   "metadata": {},
   "source": []
  },
  {
   "cell_type": "code",
   "execution_count": 5,
   "metadata": {},
   "outputs": [
    {
     "name": "stdout",
     "output_type": "stream",
     "text": [
      "40\n"
     ]
    }
   ],
   "source": [
    "a=10\n",
    "res = a<<2\n",
    "print(res)"
   ]
  },
  {
   "attachments": {},
   "cell_type": "markdown",
   "metadata": {},
   "source": [
    "Q.3. What are the standards and conventions followed for the nomenclature of variables in\n",
    "python to improve code readability and maintainability?"
   ]
  },
  {
   "attachments": {},
   "cell_type": "markdown",
   "metadata": {},
   "source": [
    "Ans: \n",
    "\n",
    "1. **Use descriptive names**: Choose variable names that are meaningful and describe the purpose or content of the variable. This makes the code more self-explanatory and easier to understand.\n",
    "\n",
    "2. **Use lowercase letters**: Variable names should be in lowercase letters. If a variable name consists of multiple words, separate them with underscores ('_'). This convention is known as \"snake_case\". For example: `num_students`, `first_name`, `total_amount`.\n",
    "\n",
    "3. **Avoid single-letter variable names**: Unless the variable represents a common convention (e.g., `i` for loop index), avoid using single-letter variable names. Instead, use descriptive names that convey the purpose of the variable.\n",
    "\n",
    "4. **Be consistent**: Maintain consistency in variable naming throughout your codebase. Use the same conventions and patterns to make the code more cohesive.\n",
    "\n",
    "5. **Avoid reserved words**: Do not use reserved words or built-in function names as variable names. For example, avoid using `print`, `list`, `str`, etc., as variable names.\n",
    "\n",
    "6. **Use meaningful abbreviations**: If necessary, use common abbreviations that are widely understood. However, try to avoid excessive abbreviation that may reduce readability.\n",
    "\n",
    "7. **Follow conventions for constants**: Constants, which are variables with values that are not intended to be modified, are usually written in uppercase letters with underscores separating words. For example: `MAX_SIZE`, `PI`.\n",
    "\n",
    "8. **Consider the scope**: Choose variable names that reflect the scope or context in which they are used. For example, use meaningful names like `customer_name`, `order_total` within a specific function or class."
   ]
  },
  {
   "attachments": {},
   "cell_type": "markdown",
   "metadata": {},
   "source": [
    "Q.4. What will happen if a keyword is used as a variable name?"
   ]
  },
  {
   "attachments": {},
   "cell_type": "markdown",
   "metadata": {},
   "source": [
    "Ans: it will result in a syntax error. <br>\n",
    "for example"
   ]
  },
  {
   "cell_type": "code",
   "execution_count": 6,
   "metadata": {},
   "outputs": [
    {
     "ename": "TypeError",
     "evalue": "'str' object is not callable",
     "output_type": "error",
     "traceback": [
      "\u001b[1;31m---------------------------------------------------------------------------\u001b[0m",
      "\u001b[1;31mTypeError\u001b[0m                                 Traceback (most recent call last)",
      "Cell \u001b[1;32mIn[6], line 2\u001b[0m\n\u001b[0;32m      1\u001b[0m \u001b[39mprint\u001b[39m \u001b[39m=\u001b[39m \u001b[39m'\u001b[39m\u001b[39m7\u001b[39m\u001b[39m'\u001b[39m\n\u001b[1;32m----> 2\u001b[0m \u001b[39mprint\u001b[39;49m(\u001b[39mprint\u001b[39;49m)\n",
      "\u001b[1;31mTypeError\u001b[0m: 'str' object is not callable"
     ]
    }
   ],
   "source": [
    "print = '7'\n",
    "print(print)"
   ]
  },
  {
   "attachments": {},
   "cell_type": "markdown",
   "metadata": {},
   "source": [
    "Q.5. For what purpose def keyword is used?"
   ]
  },
  {
   "attachments": {},
   "cell_type": "markdown",
   "metadata": {},
   "source": [
    "Ans: The def keyword in Python is used to define a function. It is followed by the function name and a set of parentheses that may contain optional parameters. The function definition is then followed by a colon (:) and an indented block of code that makes up the function body."
   ]
  },
  {
   "attachments": {},
   "cell_type": "markdown",
   "metadata": {},
   "source": [
    "Q.6. What is the operation of this special character ‘\\’?"
   ]
  },
  {
   "attachments": {},
   "cell_type": "markdown",
   "metadata": {},
   "source": [
    "Ans: The special character `\\` in Python is called the **backslash**. It is used as an **escape character** and serves various purposes depending on the context in which it is used. Here are some common operations of the backslash:\n",
    "\n",
    "1. **Escape sequences**: The backslash is used to create special characters or sequences that are difficult to represent directly in a string. For example:\n",
    "   - `\\n` represents a newline character.\n",
    "   - `\\t` represents a tab character.\n",
    "   - `\\\"` represents a double quotation mark.\n",
    "   - `\\'` represents a single quotation mark.\n",
    "   - `\\\\` represents a literal backslash.\n",
    "\n",
    "2. **Line continuation**: The backslash is used to continue a long statement across multiple lines. By placing a backslash at the end of a line, you can continue the statement on the next line without causing a syntax error.\n",
    "\n",
    "3. **Unicode escape**: The backslash can be used to represent Unicode characters using their hexadecimal code points. For example, `\\uXXXX` represents a Unicode character where `XXXX` is the hexadecimal code point.\n",
    "\n",
    "4. **Raw strings**: When an 'r' or 'R' prefix is added before a string literal, the backslash is treated as a literal character instead of an escape character. This is called a raw string. For example, `r\"C:\\path\\to\\file\"` treats backslashes as regular characters without any special meaning.\n",
    "\n",
    "These are some of the main operations of the backslash in Python. It is a versatile character that allows you to handle special characters, control characters, and represent various sequences in strings."
   ]
  },
  {
   "attachments": {},
   "cell_type": "markdown",
   "metadata": {},
   "source": [
    "Q.7. Give an example of the following conditions: <br>\n",
    "(i) Homogeneous list <br>\n",
    "(ii) Heterogeneous set <br>\n",
    "(iii) Homogeneous tuple <br>"
   ]
  },
  {
   "attachments": {},
   "cell_type": "markdown",
   "metadata": {},
   "source": [
    "Ans : 1) the following code is for homogeneous List where all the elements belong to same data type <br>\n",
    "        homolist = [1,2,3,4,5,6]  <br>\n",
    "      2) the following code is for heterogeneous List where all the elements belong to different data type <br>\n",
    "        heterolist = ['hello',1,7,9.2,'kkas'] <br>\n",
    "      3) the elements in a homogeneous tuple share a common type <br>\n",
    "        homotuple = (1, 2, 3, 4, 5) <br>"
   ]
  },
  {
   "attachments": {},
   "cell_type": "markdown",
   "metadata": {},
   "source": [
    "Q.8. Explain the mutable and immutable data types with proper explanation & examples."
   ]
  },
  {
   "attachments": {},
   "cell_type": "markdown",
   "metadata": {},
   "source": [
    "Ans: Immutable Data Types: Immutable data types are those whose values cannot be changed once they are created. If you want to modify an immutable object, you need to create a new object with the modified value. Examples of immutable data types in Python include: numbers (int,float,complex),strings,tuples"
   ]
  },
  {
   "attachments": {},
   "cell_type": "markdown",
   "metadata": {},
   "source": [
    "Mutable Data Types:\n",
    "Mutable data types are those whose values can be changed after they are created. You can modify the contents of a mutable object without creating a new object. Examples of mutable data types in Python include: lists,Dictionaries,sets"
   ]
  },
  {
   "attachments": {},
   "cell_type": "markdown",
   "metadata": {},
   "source": [
    "Q.9. Write a code to create the given structure using only for loop."
   ]
  },
  {
   "cell_type": "code",
   "execution_count": null,
   "metadata": {},
   "outputs": [
    {
     "name": "stdout",
     "output_type": "stream",
     "text": [
      "    *\n",
      "   ***\n",
      "  *****\n",
      " *******\n",
      "*********\n"
     ]
    }
   ],
   "source": [
    "rows = 5\n",
    "\n",
    "for i in range(rows):\n",
    "    for j in range(rows - i - 1):\n",
    "        print(\" \", end=\"\")\n",
    "    for k in range(2 * i + 1):\n",
    "        print(\"*\", end=\"\")\n",
    "    print()\n"
   ]
  },
  {
   "attachments": {},
   "cell_type": "markdown",
   "metadata": {},
   "source": [
    "Q.10. Write a code to create the given structure using while loop. <br>"
   ]
  },
  {
   "cell_type": "code",
   "execution_count": null,
   "metadata": {},
   "outputs": [
    {
     "name": "stdout",
     "output_type": "stream",
     "text": [
      "|||||||||\n",
      " |||||||\n",
      "  |||||\n",
      "   |||\n",
      "    |\n"
     ]
    }
   ],
   "source": [
    "rows = 5\n",
    "count = rows\n",
    "\n",
    "while count >= 1:\n",
    "    print(\" \" * (rows - count) + \"|\" * (2 * count - 1))\n",
    "    count -= 1\n"
   ]
  }
 ],
 "metadata": {
  "kernelspec": {
   "display_name": "Python 3",
   "language": "python",
   "name": "python3"
  },
  "language_info": {
   "codemirror_mode": {
    "name": "ipython",
    "version": 3
   },
   "file_extension": ".py",
   "mimetype": "text/x-python",
   "name": "python",
   "nbconvert_exporter": "python",
   "pygments_lexer": "ipython3",
   "version": "3.10.11"
  },
  "orig_nbformat": 4
 },
 "nbformat": 4,
 "nbformat_minor": 2
}
