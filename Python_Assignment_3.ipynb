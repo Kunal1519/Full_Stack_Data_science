{
 "cells": [
  {
   "attachments": {},
   "cell_type": "markdown",
   "metadata": {},
   "source": [
    "<p><strong>1. Why are functions advantageous to have in your programs?</strong></p>"
   ]
  },
  {
   "attachments": {},
   "cell_type": "markdown",
   "metadata": {},
   "source": [
    "Ans. Advantages of having functions:\n",
    "Functions reduce the need for duplicate code. This makes programs shorter, easier to read, and easier to update."
   ]
  },
  {
   "attachments": {},
   "cell_type": "markdown",
   "metadata": {},
   "source": [
    "<p><strong>2. When does the code in a function run: when it&#39;s specified or when it&#39;s called?</strong></p>"
   ]
  },
  {
   "attachments": {},
   "cell_type": "markdown",
   "metadata": {},
   "source": [
    "Ans: Code in the function runs when the function is called"
   ]
  },
  {
   "attachments": {},
   "cell_type": "markdown",
   "metadata": {},
   "source": [
    "<p><strong>3. What statement creates a function?</strong></p>"
   ]
  },
  {
   "attachments": {},
   "cell_type": "markdown",
   "metadata": {},
   "source": [
    "Ans. The def statement defines (i.e. creates) a function.\n",
    "<br> &nbsp; &nbsp; &nbsp; &nbsp; Eg .<br>\n",
    " &nbsp; &nbsp; &nbsp; &nbsp; def my_func():<br>\n",
    " &nbsp; &nbsp; &nbsp; &nbsp;pass"
   ]
  },
  {
   "attachments": {},
   "cell_type": "markdown",
   "metadata": {},
   "source": [
    "<p><strong>4. What is the difference between a function and a function call?</strong></p>"
   ]
  },
  {
   "cell_type": "code",
   "execution_count": 26,
   "metadata": {},
   "outputs": [
    {
     "name": "stdout",
     "output_type": "stream",
     "text": [
      "function called\n"
     ]
    }
   ],
   "source": [
    "#def of func\n",
    "def my_func(): \n",
    "    print(\"function called\")\n",
    "    pass \n",
    "my_func() #calling of function"
   ]
  },
  {
   "attachments": {},
   "cell_type": "markdown",
   "metadata": {},
   "source": [
    "<p>\n",
    "A function is a piece of code which enhanced the reusability and modularity of your program.It means that piece of code need not be written again. <br>\n",
    "A function call means invoking or calling that function. Unless a function is called there is no use of that function\n",
    "</p>"
   ]
  },
  {
   "attachments": {},
   "cell_type": "markdown",
   "metadata": {},
   "source": [
    "<p><strong>5. How many global scopes are there in a Python program? How many local scopes?</strong></p>"
   ]
  },
  {
   "attachments": {},
   "cell_type": "markdown",
   "metadata": {},
   "source": [
    "Ans .There's only one global Python scope per program execution. This scope remains in existence until the program terminates , and a local scope is created whenever a function is called."
   ]
  },
  {
   "attachments": {},
   "cell_type": "markdown",
   "metadata": {},
   "source": [
    "<p><strong>Q6. What happens to variables in a local scope when the function call returns?</strong><p>"
   ]
  },
  {
   "attachments": {},
   "cell_type": "markdown",
   "metadata": {},
   "source": [
    "<p>Ans. When a function returns, the local scope is destroyed.<p>"
   ]
  },
  {
   "attachments": {},
   "cell_type": "markdown",
   "metadata": {},
   "source": [
    "<strong>7. What is the concept of a return value? Is it possible to have a return value in an expression?</strong>"
   ]
  },
  {
   "attachments": {},
   "cell_type": "markdown",
   "metadata": {},
   "source": [
    "Ans: A return is a value that a function returns to the calling function when it completes its task and a return value can be used as a expression"
   ]
  },
  {
   "attachments": {},
   "cell_type": "markdown",
   "metadata": {},
   "source": [
    "<strong>8. If a function does not have a return statement, what is the return value of a call to that function?</strong>"
   ]
  },
  {
   "attachments": {},
   "cell_type": "markdown",
   "metadata": {},
   "source": [
    "Ans. If the funtion does not have a return statement it will not return anything."
   ]
  },
  {
   "attachments": {},
   "cell_type": "markdown",
   "metadata": {},
   "source": [
    "<strong>9. How do you make a function variable refer to the global variable?</strong>"
   ]
  },
  {
   "attachments": {},
   "cell_type": "markdown",
   "metadata": {},
   "source": [
    "Ans. To make function variable as a global variable you can use the global keyword to declare which variables are global."
   ]
  },
  {
   "attachments": {},
   "cell_type": "markdown",
   "metadata": {},
   "source": [
    "<strong>10. What is the data type of None?</strong>"
   ]
  },
  {
   "attachments": {},
   "cell_type": "markdown",
   "metadata": {},
   "source": [
    "Ans . The data type of None is NoneType."
   ]
  },
  {
   "attachments": {},
   "cell_type": "markdown",
   "metadata": {},
   "source": [
    "<strong>11. What does the sentence import areallyourpetsnamederic do?</strong>"
   ]
  },
  {
   "attachments": {},
   "cell_type": "markdown",
   "metadata": {},
   "source": [
    "Ans .That import statement imports a module named areallyourpetsnamederic. (But a module of this name doesnt exists in Python)"
   ]
  },
  {
   "attachments": {},
   "cell_type": "markdown",
   "metadata": {},
   "source": [
    "<strong>12. If you had a bacon() feature in a spam module, what would you call it after importing spam?</strong>"
   ]
  },
  {
   "attachments": {},
   "cell_type": "markdown",
   "metadata": {},
   "source": [
    "Ans .import spam <br>\n",
    "spam.bacon()"
   ]
  },
  {
   "attachments": {},
   "cell_type": "markdown",
   "metadata": {},
   "source": [
    "<strong>13. What can you do to save a programme from crashing if it encounters an error?</strong>"
   ]
  },
  {
   "attachments": {},
   "cell_type": "markdown",
   "metadata": {},
   "source": [
    "Ans. We can use try except clause to save a program from crashing."
   ]
  },
  {
   "attachments": {},
   "cell_type": "markdown",
   "metadata": {},
   "source": [
    "<strong>14. What is the purpose of the try clause? What is the purpose of the except clause?</strong>"
   ]
  },
  {
   "attachments": {},
   "cell_type": "markdown",
   "metadata": {},
   "source": [
    "Ans. Try and Except clause is used to handle the errors within our code . The try block is used to check some code for errors i.e the code inside the try block will execute when there is no error in the program. Whereas the code inside the except block will execute whenever the program encounters some error in the try block.\n",
    "\n",
    "Eg. try:<br>\n",
    "// Code<br>\n",
    "except:<br>\n",
    "// Executed if error in the<br>\n",
    "// try block"
   ]
  }
 ],
 "metadata": {
  "kernelspec": {
   "display_name": "Python 3",
   "language": "python",
   "name": "python3"
  },
  "language_info": {
   "codemirror_mode": {
    "name": "ipython",
    "version": 3
   },
   "file_extension": ".py",
   "mimetype": "text/x-python",
   "name": "python",
   "nbconvert_exporter": "python",
   "pygments_lexer": "ipython3",
   "version": "3.10.11"
  },
  "orig_nbformat": 4
 },
 "nbformat": 4,
 "nbformat_minor": 2
}
