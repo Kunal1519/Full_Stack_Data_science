{
 "cells": [
  {
   "attachments": {},
   "cell_type": "markdown",
   "metadata": {},
   "source": [
    "1. What is the role of try and exception block?"
   ]
  },
  {
   "attachments": {},
   "cell_type": "markdown",
   "metadata": {},
   "source": [
    "Ans: The code inside the \"try\" block is executed. If an exception(Error) occurs during this execution, the remaining statements in the \"try\" block are skipped, and the program jumps to the appropriate \"except\" block."
   ]
  },
  {
   "attachments": {},
   "cell_type": "markdown",
   "metadata": {},
   "source": [
    "2. What is the syntax for a basic try-except block?"
   ]
  },
  {
   "attachments": {},
   "cell_type": "markdown",
   "metadata": {},
   "source": [
    "syntax\n",
    "```\n",
    "try:\n",
    "    # Code block where you attempt to execute statements\n",
    "    # that may raise an exception\n",
    "except ExceptionType:\n",
    "    # Code block to handle the exception\n",
    "```"
   ]
  },
  {
   "attachments": {},
   "cell_type": "markdown",
   "metadata": {},
   "source": [
    "3. What happens if an exception occurs inside a try block and there is no matching except block?"
   ]
  },
  {
   "attachments": {},
   "cell_type": "markdown",
   "metadata": {},
   "source": [
    "If an exception occurs inside a \"try\" block and there is no matching \"except\" block to handle that specific exception type, the exception will propagate up the call stack until it finds a suitable \"except\" block or, if there is no such block, it will cause the program to terminate abruptly.\n",
    "\n",
    "Example:"
   ]
  },
  {
   "cell_type": "code",
   "execution_count": 14,
   "metadata": {},
   "outputs": [
    {
     "ename": "ValueError",
     "evalue": "Something went wrong!",
     "output_type": "error",
     "traceback": [
      "\u001b[1;31m---------------------------------------------------------------------------\u001b[0m",
      "\u001b[1;31mValueError\u001b[0m                                Traceback (most recent call last)",
      "Cell \u001b[1;32mIn[14], line 7\u001b[0m\n\u001b[0;32m      4\u001b[0m     \u001b[39mexcept\u001b[39;00m \u001b[39mKeyError\u001b[39;00m:\n\u001b[0;32m      5\u001b[0m         \u001b[39mprint\u001b[39m(\u001b[39m\"\u001b[39m\u001b[39mKeyError occurred.\u001b[39m\u001b[39m\"\u001b[39m)\n\u001b[1;32m----> 7\u001b[0m foo()\n",
      "Cell \u001b[1;32mIn[14], line 3\u001b[0m, in \u001b[0;36mfoo\u001b[1;34m()\u001b[0m\n\u001b[0;32m      1\u001b[0m \u001b[39mdef\u001b[39;00m \u001b[39mfoo\u001b[39m():\n\u001b[0;32m      2\u001b[0m     \u001b[39mtry\u001b[39;00m:\n\u001b[1;32m----> 3\u001b[0m         \u001b[39mraise\u001b[39;00m \u001b[39mValueError\u001b[39;00m(\u001b[39m\"\u001b[39m\u001b[39mSomething went wrong!\u001b[39m\u001b[39m\"\u001b[39m)\n\u001b[0;32m      4\u001b[0m     \u001b[39mexcept\u001b[39;00m \u001b[39mKeyError\u001b[39;00m:\n\u001b[0;32m      5\u001b[0m         \u001b[39mprint\u001b[39m(\u001b[39m\"\u001b[39m\u001b[39mKeyError occurred.\u001b[39m\u001b[39m\"\u001b[39m)\n",
      "\u001b[1;31mValueError\u001b[0m: Something went wrong!"
     ]
    }
   ],
   "source": [
    "def foo():\n",
    "    try:\n",
    "        raise ValueError(\"Something went wrong!\")\n",
    "    except KeyError:\n",
    "        print(\"KeyError occurred.\")\n",
    "\n",
    "foo()"
   ]
  },
  {
   "attachments": {},
   "cell_type": "markdown",
   "metadata": {},
   "source": [
    "4. What is the difference between using a bare except block and specifying a specific exception type?"
   ]
  },
  {
   "attachments": {},
   "cell_type": "markdown",
   "metadata": {},
   "source": [
    "Ans : bare except All type of exception in the code but using specific type exception that catches only specified types of exceptions and if other exception will come into the code the code will terminate without giving the exception"
   ]
  },
  {
   "attachments": {},
   "cell_type": "markdown",
   "metadata": {},
   "source": [
    "5. Can you have nested try-except blocks in Python? If yes, then give an example."
   ]
  },
  {
   "attachments": {},
   "cell_type": "markdown",
   "metadata": {},
   "source": [
    "Yes, it is possible to have nested try-except blocks in Python. Nested try-except blocks allow for more granular exception handling, where you can catch specific exceptions in inner blocks while handling broader exceptions in outer blocks. Here's an example:"
   ]
  },
  {
   "cell_type": "code",
   "execution_count": null,
   "metadata": {},
   "outputs": [
    {
     "name": "stdout",
     "output_type": "stream",
     "text": [
      "Caught ZeroDivisionError in outer try-except block\n",
      "Caught ValueError in inner try-except block\n"
     ]
    }
   ],
   "source": [
    "try:\n",
    "    outer_var = 10 / 0  \n",
    "except ZeroDivisionError:\n",
    "    print(\"Caught ZeroDivisionError in outer try-except block\")\n",
    "    try:\n",
    "        inner_var = int(\"abc\")  \n",
    "    except ValueError:\n",
    "        print(\"Caught ValueError in inner try-except block\")\n"
   ]
  },
  {
   "attachments": {},
   "cell_type": "markdown",
   "metadata": {},
   "source": [
    "6. Can we use multiple exception blocks, if yes then give an example."
   ]
  },
  {
   "attachments": {},
   "cell_type": "markdown",
   "metadata": {},
   "source": [
    "Yes, it is possible to use multiple except blocks in a try-except statement in Python. This allows you to catch and handle different types of exceptions separately. Here's an example:"
   ]
  },
  {
   "cell_type": "code",
   "execution_count": null,
   "metadata": {},
   "outputs": [
    {
     "name": "stdout",
     "output_type": "stream",
     "text": [
      "Caught ZeroDivisionError\n"
     ]
    }
   ],
   "source": [
    "try:\n",
    "    a = 10 / 0  \n",
    "    b = int(\"abc\") \n",
    "except ZeroDivisionError:\n",
    "    print(\"Caught ZeroDivisionError\")\n",
    "except ValueError:\n",
    "    print(\"Caught ValueError\")\n"
   ]
  },
  {
   "attachments": {},
   "cell_type": "markdown",
   "metadata": {},
   "source": [
    "7. Write the reason due to which following errors are raised:\n",
    "```\n",
    "    a. EOFError\n",
    "    b. FloatingPointError\n",
    "    c. IndexError\n",
    "    d. MemoryError\n",
    "    e. OverflowError\n",
    "    f. TabError\n",
    "    g. ValueError\n",
    "\n",
    "```"
   ]
  },
  {
   "attachments": {},
   "cell_type": "markdown",
   "metadata": {},
   "source": [
    "Ans :\n",
    "\n",
    "a) EOFError :- This error is raised when an input() function hits the end-of-file condition, typically when trying to read input from the user and no more input is available.  \n",
    "\n",
    "b) FloatingPointError :- This error can occur due to various reasons, such as dividing by zero, performing an illegal operation on NaN (Not a Number), or encountering an infinity-related issue.\n",
    "\n",
    "\n",
    "c)  IndexError :- It occurs when trying to access an index that is out of range or does not exist in the sequence.\n",
    "\n",
    "d)  MemoryError :- It occurs when the system does not have enough memory resources to satisfy a memory allocation request.\n",
    "\n",
    "e)  OverflowError :- It occurs when attempting to perform a calculation that exceeds the maximum or minimum value that can be stored in a numeric  type.\n",
    "\n",
    "f)  TabError :- It occurs when the Python interpreter encounters an inconsistent or improper use of tabs and spaces for indentation within the same block of code.\n",
    "\n",
    "g)  ValueError :- It occurs when an operation or conversion is attempted with a value that is not valid for the specified context or requirement."
   ]
  },
  {
   "attachments": {},
   "cell_type": "markdown",
   "metadata": {},
   "source": [
    "8. Write code for the following given scenario and add try-exception block to it.\n",
    "```\n",
    "    a. Program to divide two numbers\n",
    "    b. Program to convert a string to an integer\n",
    "    c. Program to access an element in a list\n",
    "    d. Program to handle a specific exception\n",
    "    e. Program to handle any exception\n",
    "```"
   ]
  },
  {
   "cell_type": "code",
   "execution_count": 15,
   "metadata": {},
   "outputs": [
    {
     "name": "stdout",
     "output_type": "stream",
     "text": [
      "Result: 2.0\n"
     ]
    }
   ],
   "source": [
    "# a)  Program to divide two numbers:\n",
    "try:\n",
    "    numerator = float(input(\"Enter the numerator: \"))\n",
    "    denominator = float(input(\"Enter the denominator: \"))\n",
    "    result = numerator / denominator\n",
    "    print(\"Result:\", result)\n",
    "except ZeroDivisionError:\n",
    "    print(\"Error: Division by zero is not allowed.\")\n"
   ]
  },
  {
   "cell_type": "code",
   "execution_count": 17,
   "metadata": {},
   "outputs": [
    {
     "name": "stdout",
     "output_type": "stream",
     "text": [
      "Converted integer: 10\n"
     ]
    }
   ],
   "source": [
    "#b. Program to convert a string to an integer:\n",
    "try:\n",
    "    value = input(\"Enter an integer: \")\n",
    "    result = int(value)\n",
    "    print(\"Converted integer:\", result)\n",
    "except ValueError:\n",
    "    print(\"Error: Invalid input. Please enter a valid integer.\")\n"
   ]
  },
  {
   "cell_type": "code",
   "execution_count": 18,
   "metadata": {},
   "outputs": [
    {
     "name": "stdout",
     "output_type": "stream",
     "text": [
      "Element at index 3 : 4\n"
     ]
    }
   ],
   "source": [
    "#c. Program to access an element in a list:\n",
    "try:\n",
    "    my_list = [1, 2, 3, 4, 5]\n",
    "    index = int(input(\"Enter the index: \"))\n",
    "    result = my_list[index]\n",
    "    print(\"Element at index\", index, \":\", result)\n",
    "except IndexError:\n",
    "    print(\"Error: Index out of range. Please enter a valid index.\")\n"
   ]
  },
  {
   "cell_type": "code",
   "execution_count": 19,
   "metadata": {},
   "outputs": [
    {
     "name": "stdout",
     "output_type": "stream",
     "text": [
      "Age: 25\n"
     ]
    }
   ],
   "source": [
    "#d. Program to handle a specific exception:\n",
    "\n",
    "try:\n",
    "    age = int(input(\"Enter your age: \"))\n",
    "    if age < 0:\n",
    "        raise ValueError(\"Invalid age: Age cannot be negative.\")\n",
    "    print(\"Age:\", age)\n",
    "except ValueError as e:\n",
    "    print(\"Error:\", str(e))\n"
   ]
  },
  {
   "cell_type": "code",
   "execution_count": 20,
   "metadata": {},
   "outputs": [
    {
     "name": "stdout",
     "output_type": "stream",
     "text": [
      "Result: 5.0\n"
     ]
    }
   ],
   "source": [
    "#e. Program to handle any exception:\n",
    "\n",
    "try:\n",
    "    # Code that may raise exceptions\n",
    "    num1 = int(input(\"Enter the first number: \"))\n",
    "    num2 = int(input(\"Enter the second number: \"))\n",
    "    result = num1 / num2\n",
    "    print(\"Result:\", result)\n",
    "except Exception as e:\n",
    "    print(\"An error occurred:\", str(e))\n"
   ]
  }
 ],
 "metadata": {
  "kernelspec": {
   "display_name": "Python 3",
   "language": "python",
   "name": "python3"
  },
  "language_info": {
   "codemirror_mode": {
    "name": "ipython",
    "version": 3
   },
   "file_extension": ".py",
   "mimetype": "text/x-python",
   "name": "python",
   "nbconvert_exporter": "python",
   "pygments_lexer": "ipython3",
   "version": "3.10.11"
  },
  "orig_nbformat": 4
 },
 "nbformat": 4,
 "nbformat_minor": 2
}
